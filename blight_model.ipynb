{
 "cells": [
  {
   "cell_type": "code",
   "execution_count": 2,
   "metadata": {
    "collapsed": true
   },
   "outputs": [],
   "source": [
    "import pandas as pd\n",
    "import numpy as np\n",
    "from sklearn.model_selection import train_test_split\n",
    "from sklearn.metrics import classification_report\n",
    "from sklearn.tree import DecisionTreeClassifier\n",
    "from sklearn.linear_model import LogisticRegression\n",
    "from sklearn.svm import SVC\n",
    "from sklearn.preprocessing import LabelEncoder\n",
    "from sklearn.ensemble import RandomForestClassifier"
   ]
  },
  {
   "cell_type": "code",
   "execution_count": 1,
   "metadata": {
    "collapsed": true
   },
   "outputs": [],
   "source": [
    "def get_feature_list():\n",
    "    features = ['ticket_id', \n",
    "                #'agency_name',\n",
    "                #'inspector_name',\n",
    "                #'violator_name',\n",
    "                'lat', \n",
    "                'lon',\n",
    "                #'violation_street_number', \n",
    "                #'violation_street_name', \n",
    "                #'violation_zip_code',\n",
    "                #'mailing_address_str_number', \n",
    "                #'mailing_address_str_name', \n",
    "                #'city', \n",
    "                #'state', \n",
    "                #'zip_code', \n",
    "                #'non_us_str_code', \n",
    "                #'country',\n",
    "                #'ticket_issued_date',\n",
    "                #'hearing_date',\n",
    "                'violation_code', \n",
    "                #'violation_description',\n",
    "                #'disposition',\n",
    "                'fine_amount',\n",
    "                'admin_fee',\n",
    "                'state_fee',\n",
    "                'late_fee',\n",
    "                'discount_amount',\n",
    "                'clean_up_cost',\n",
    "                'judgment_amount',\n",
    "                'grafitti_status']\n",
    "    return features"
   ]
  },
  {
   "cell_type": "code",
   "execution_count": 3,
   "metadata": {
    "collapsed": false
   },
   "outputs": [],
   "source": [
    "def get_df(theSourceData):\n",
    "    df = pd.read_csv(theSourceData, engine='python')\n",
    "    addresses = pd.read_csv('readonly/addresses.csv')\n",
    "    latlons = pd.read_csv('readonly/latlons.csv')\n",
    "\n",
    "    new_df = df.merge(right=addresses, how='left', on='ticket_id').merge(right=latlons, how='left', on='address')\n",
    "    new_df['grafitti_status'] = new_df.loc[new_df['grafitti_status'].notnull()]['grafitti_status'] = 1.0\n",
    "    new_df['grafitti_status'] = new_df.loc[new_df['grafitti_status'].isnull()]['grafitti_status'] = 0.0\n",
    "    new_df['lat'] = new_df.loc[new_df['lat'].isnull()]['lat'] = 0.0\n",
    "    new_df['lon'] = new_df.loc[new_df['lon'].isnull()]['lon'] = 0.0\n",
    "    new_df['fine_amount'] = new_df.loc[new_df['fine_amount'].isnull()]['fine_amount'] = 0.0\n",
    "    new_df['ticket_issued_date'] = pd.to_datetime(new_df['ticket_issued_date'], format='%Y-%m-%d %H:%M:%S')\n",
    "    new_df['hearing_date'] = pd.to_datetime(new_df['hearing_date'], format='%Y-%m-%d %H:%M:%S')\n",
    "    new_df['violation_code'] = new_df.loc[new_df['violation_code'].isnull()]['violation_code'] = 'NaN'\n",
    "    new_df['violation_code'] = LabelEncoder().fit_transform(new_df['violation_code'])\n",
    "    new_df['non_us_str_code'] = new_df.loc[new_df['non_us_str_code'].isnull()]['non_us_str_code'] = 'NaN'\n",
    "    new_df['non_us_str_code'] = LabelEncoder().fit_transform(new_df['non_us_str_code']) \n",
    "    \n",
    "    return new_df"
   ]
  },
  {
   "cell_type": "code",
   "execution_count": 4,
   "metadata": {
    "collapsed": true
   },
   "outputs": [],
   "source": [
    "def blight_model():\n",
    "    # Your code here\n",
    "    \n",
    "    train_df = get_df('readonly/train.csv')\n",
    "    train_df.dropna(axis=0,subset=['compliance'], inplace=True)\n",
    "    train_df = train_df.astype(dtype={'compliance':'int64'})\n",
    "    test_df = get_df('readonly/test.csv')\n",
    "    test_df = get_df('readonly/test.csv')\n",
    "    X = train_df[get_feature_list()]\n",
    "    y = train_df['compliance']\n",
    "    X_train, X_test, y_train, y_test = train_test_split(X, y, random_state=0)\n",
    "    dt = DecisionTreeClassifier(max_depth=3).fit(X_train, y_train)\n",
    "    X_realTest = test_df[get_feature_list()]\n",
    "    y_proba_tree = dt.predict_proba(X_realTest)[:,1]\n",
    "    \n",
    "    result = pd.Series(index=test_df['ticket_id'], data=y_proba_tree, name='compliance')\n",
    "    \n",
    "    return result # Your answer here"
   ]
  },
  {
   "cell_type": "code",
   "execution_count": null,
   "metadata": {
    "collapsed": true
   },
   "outputs": [],
   "source": []
  },
  {
   "cell_type": "code",
   "execution_count": 5,
   "metadata": {
    "collapsed": false
   },
   "outputs": [
    {
     "output_type": "execute_result",
     "data": {
      "text/plain": [
       "ticket_id\n",
       "284932    0.177546\n",
       "285362    0.030849\n",
       "285361    0.177546\n",
       "285338    0.177546\n",
       "285346    0.177546\n",
       "            ...   \n",
       "376496    0.030849\n",
       "376497    0.030849\n",
       "376499    0.177546\n",
       "376500    0.177546\n",
       "369851    0.302650\n",
       "Name: compliance, Length: 61001, dtype: float64"
      ]
     },
     "metadata": {},
     "execution_count": 5
    }
   ],
   "source": [
    "blight_model()"
   ]
  },
  {
   "cell_type": "code",
   "execution_count": null,
   "metadata": {
    "collapsed": true
   },
   "outputs": [],
   "source": []
  }
 ],
 "metadata": {
  "coursera": {
   "course_slug": "python-machine-learning",
   "graded_item_id": "nNS8l",
   "launcher_item_id": "yWWk7",
   "part_id": "w8BSS"
  },
  "kernelspec": {
   "name": "python377jvsc74a57bd077639f77cf845122dda25ef69a7ccd4e586fd1ab342fa0af7566dd5ade8df334",
   "display_name": "Python 3.7.7 64-bit ('base': conda)"
  },
  "language_info": {
   "codemirror_mode": {
    "name": "ipython",
    "version": 3
   },
   "file_extension": ".py",
   "mimetype": "text/x-python",
   "name": "python",
   "nbconvert_exporter": "python",
   "pygments_lexer": "ipython3",
   "version": "3.7.7"
  }
 },
 "nbformat": 4,
 "nbformat_minor": 2
}